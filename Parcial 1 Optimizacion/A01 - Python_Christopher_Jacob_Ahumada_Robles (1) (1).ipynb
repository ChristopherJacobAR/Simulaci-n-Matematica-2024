{
 "cells": [
  {
   "cell_type": "markdown",
   "id": "9f437e53-8167-4852-b2fa-ecff319d96d8",
   "metadata": {
    "tags": []
   },
   "source": [
    "# Simulación Matemática\n",
    "### *Tarea 2* \n",
    "## **Python**"
   ]
  },
  {
   "cell_type": "markdown",
   "id": "d45657f0-8466-4bc3-824b-3edcb9b6425b",
   "metadata": {
    "tags": []
   },
   "source": [
    "![alt text](iteso_logo.jpg)"
   ]
  },
  {
   "cell_type": "markdown",
   "id": "d16391cc-73ba-47d5-ab87-9a6e8419b057",
   "metadata": {
    "tags": []
   },
   "source": [
    "- Christopher Jacob Ahumada Robles                                                                                \n",
    "- Ingenieria Financiera\n",
    "- (01/19/2024)"
   ]
  },
  {
   "cell_type": "markdown",
   "id": "2c42e413-40b7-4130-b474-92861f6be718",
   "metadata": {
    "tags": []
   },
   "source": [
    "## **Instrucciones**\n",
    "\n",
    "Crear un notebook de Jupyter con las siguientes condiciones:\n",
    "\n",
    "- 1.-Existe una función que recibe un número entero y te dice si es un número primo.\n",
    "\n",
    "- 2.-Existe una función que recibe un número y te regresa el factorial de ese número.\n",
    "\n",
    "- 3.-Contiene una celda donde revisa los números del 1 al 1000 e imprime aquellos que son primos.\n",
    "\n",
    "- 4.-Contiene una celda donde itera sobre los números [2, 5, 8, 11] e imprime su factorial."
   ]
  },
  {
   "cell_type": "markdown",
   "id": "8627c3c2-d74d-4c01-bfb4-3ff6f69b18f0",
   "metadata": {},
   "source": [
    "### Ejercicio 1:"
   ]
  },
  {
   "cell_type": "code",
   "execution_count": 3,
   "id": "7aa12c51-704f-4579-88eb-40c8e0646cd1",
   "metadata": {
    "tags": []
   },
   "outputs": [
    {
     "name": "stdin",
     "output_type": "stream",
     "text": [
      "Ingrese un numero entero: 5\n"
     ]
    },
    {
     "name": "stdout",
     "output_type": "stream",
     "text": [
      "Es primo\n"
     ]
    }
   ],
   "source": [
    "\n",
    "n=int(input(\"Ingrese un numero entero:\"))\n",
    "def numero_primo(n):\n",
    "    if n <= 1:\n",
    "        return False\n",
    "    for i in range (2, int(((n**0.5) + 1))):\n",
    "        if n % i == 0:\n",
    "            return False \n",
    "    return True\n",
    "if numero_primo(n) is True:\n",
    "    print(\"Es primo\")\n",
    "else:\n",
    "    print(\"no es primo\")\n",
    "    \n"
   ]
  },
  {
   "cell_type": "markdown",
   "id": "72e22d53-eba1-4b9f-bb08-247aa574ee44",
   "metadata": {},
   "source": [
    "### Ejercicio 2:"
   ]
  },
  {
   "cell_type": "code",
   "execution_count": 4,
   "id": "602de108-2f3b-41fb-b65a-71d9a64cbd4f",
   "metadata": {
    "tags": []
   },
   "outputs": [
    {
     "name": "stdin",
     "output_type": "stream",
     "text": [
      "ingrese un numero entero positivo 2\n"
     ]
    },
    {
     "data": {
      "text/plain": [
       "2"
      ]
     },
     "execution_count": 4,
     "metadata": {},
     "output_type": "execute_result"
    }
   ],
   "source": [
    "x = int(input(\"ingrese un numero entero positivo\"))\n",
    "def factorial (x):\n",
    "    if x < 0:\n",
    "        return \"Ingrese un numero positivo e intente de nuevo\"\n",
    "    elif x == 0 or x == 1:\n",
    "        return 1\n",
    "    else:\n",
    "        factorial_x = x * factorial(x-1)\n",
    "        return factorial_x\n",
    "factorial (x)"
   ]
  },
  {
   "cell_type": "markdown",
   "id": "9b3e29b6-fab8-468a-95ae-53ef3fae2d1b",
   "metadata": {
    "tags": []
   },
   "source": [
    "### Ejercicio 3:\n"
   ]
  },
  {
   "cell_type": "code",
   "execution_count": 6,
   "id": "6f69a0f6-3342-4297-b4b4-4272792dc41f",
   "metadata": {
    "tags": []
   },
   "outputs": [
    {
     "name": "stdout",
     "output_type": "stream",
     "text": [
      "[2, 3, 5, 7, 11, 13, 17, 19, 23, 29, 31, 37, 41, 43, 47, 53, 59, 61, 67, 71, 73, 79, 83, 89, 97, 101, 103, 107, 109, 113, 127, 131, 137, 139, 149, 151, 157, 163, 167, 173, 179, 181, 191, 193, 197, 199, 211, 223, 227, 229, 233, 239, 241, 251, 257, 263, 269, 271, 277, 281, 283, 293, 307, 311, 313, 317, 331, 337, 347, 349, 353, 359, 367, 373, 379, 383, 389, 397, 401, 409, 419, 421, 431, 433, 439, 443, 449, 457, 461, 463, 467, 479, 487, 491, 499, 503, 509, 521, 523, 541, 547, 557, 563, 569, 571, 577, 587, 593, 599, 601, 607, 613, 617, 619, 631, 641, 643, 647, 653, 659, 661, 673, 677, 683, 691, 701, 709, 719, 727, 733, 739, 743, 751, 757, 761, 769, 773, 787, 797, 809, 811, 821, 823, 827, 829, 839, 853, 857, 859, 863, 877, 881, 883, 887, 907, 911, 919, 929, 937, 941, 947, 953, 967, 971, 977, 983, 991, 997]\n"
     ]
    }
   ],
   "source": [
    "lista_primos= []\n",
    "numero = 2\n",
    "\n",
    "for numero in range(1, 1001):\n",
    "    if numero_primo(numero):\n",
    "        lista_primos.append(numero)\n",
    "    numero +=1\n",
    "\n",
    "print(lista_primos)  "
   ]
  },
  {
   "cell_type": "markdown",
   "id": "7960b847-64ed-4f5e-b42a-c7df28115ce4",
   "metadata": {
    "tags": []
   },
   "source": [
    "### Ejercicio 4:\n"
   ]
  },
  {
   "cell_type": "code",
   "execution_count": 29,
   "id": "4ea87c5b-8001-4a32-9c74-b47107acab80",
   "metadata": {
    "tags": []
   },
   "outputs": [
    {
     "name": "stdout",
     "output_type": "stream",
     "text": [
      "2\n",
      "120\n",
      "40320\n",
      "39916800\n"
     ]
    }
   ],
   "source": [
    "lista = [2, 5, 8, 11]\n",
    "for x in lista:\n",
    "    print(factorial(x))"
   ]
  }
 ],
 "metadata": {
  "kernelspec": {
   "display_name": "Python 3 (ipykernel)",
   "language": "python",
   "name": "python3"
  },
  "language_info": {
   "codemirror_mode": {
    "name": "ipython",
    "version": 3
   },
   "file_extension": ".py",
   "mimetype": "text/x-python",
   "name": "python",
   "nbconvert_exporter": "python",
   "pygments_lexer": "ipython3",
   "version": "3.11.5"
  }
 },
 "nbformat": 4,
 "nbformat_minor": 5
}
